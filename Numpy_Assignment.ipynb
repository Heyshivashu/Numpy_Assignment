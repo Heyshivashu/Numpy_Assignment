{
  "nbformat": 4,
  "nbformat_minor": 0,
  "metadata": {
    "colab": {
      "provenance": []
    },
    "kernelspec": {
      "name": "python3",
      "display_name": "Python 3"
    },
    "language_info": {
      "name": "python"
    }
  },
  "cells": [
    {
      "cell_type": "markdown",
      "source": [
        "## Name: Shivanshu Singh Parihar\n",
        "# Batch : September 2024\n",
        "# Assignment Date: 25 Oct 2024\n",
        "# Assignment : Numpy Theory\n",
        "## Theoretical Questions:\n",
        "\n",
        "###                                 Assignment -5\n"
      ],
      "metadata": {
        "id": "wTPnMf9h8mwC"
      }
    },
    {
      "cell_type": "markdown",
      "source": [
        "**1.\tExplain the purpose and advantages of NumPy in scientific computing and data analysis. How does it enhance Python's capabilities for numerical operations?**\n",
        "\n",
        "Ans: NumPy is a fundamental library for scientific computing and data analysis in Python. It provides a high-performance multidimensional array object and tools for working with these arrays. Here’s a detailed look at its purpose, advantages, and how it enhances Python’s capabilities:\n",
        "\n",
        "# Purpose of NumPy\n",
        "*  Multidimensional Arrays: NumPy introduces the ndarray object, a powerful and flexible array structure that supports large, multi-dimensional arrays and matrices. This is crucial for scientific computing where complex data structures and operations are often required.\n",
        "\n",
        "*  Mathematical Functions: It provides a wide range of mathematical functions to perform operations on arrays. These include basic operations like addition and multiplication, as well as more advanced functions like trigonometric functions, statistical functions, and linear algebra operations.\n",
        "\n",
        "*  Interoperability: NumPy arrays serve as a base for other scientific libraries like SciPy, pandas, and scikit-learn, making it easier to perform complex analyses and data manipulation.\n",
        "\n",
        "# Advantages of NumPy\n",
        "*  Performance: NumPy is designed for high performance on large arrays and matrices. Its array operations are implemented in C, which means they execute faster than equivalent operations performed in pure Python. The use of contiguous memory blocks and vectorization (operations applied simultaneously across array elements) further enhances speed.\n",
        "\n",
        "*  Vectorization: NumPy supports vectorized operations, which means operations can be applied element-wise without the need for explicit loops. This leads to more concise and readable code as well as performance improvements due to optimized C-based implementations.\n",
        "\n",
        "*  Broadcasting: NumPy's broadcasting rules allow operations on arrays of different shapes and sizes, facilitating efficient computations. For instance, you can perform arithmetic operations between a scalar and an array without having to explicitly replicate the scalar across the array.\n",
        "\n",
        "*  Integration with Other Libraries: NumPy serves as the foundational library for scientific computing in Python. Many other libraries, such as SciPy (for scientific and technical computing), pandas (for data manipulation and analysis), and scikit-learn (for machine learning), rely on NumPy for array operations and data handling.\n",
        "\n",
        "*  Ease of Use: NumPy provides a wide range of easy-to-use functions and methods for data manipulation, such as reshaping arrays, slicing, indexing, and aggregating data. This simplicity makes it accessible even to those new to programming or scientific computing.\n",
        "\n",
        "*  Memory Efficiency: NumPy arrays are more memory-efficient compared to Python lists. This is because NumPy uses a fixed-size data type for its elements and stores them in contiguous blocks of memory, which minimizes overhead and improves cache performance.\n",
        "\n",
        "*  Rich Ecosystem: The extensive ecosystem of functions and tools provided by NumPy, including those for linear algebra, Fourier transforms, and random number generation, makes it a comprehensive tool for numerical and scientific computations.\n",
        "\n",
        "# Enhancing Python’s Capabilities\n",
        "*   Speed and Efficiency: Python, being an interpreted language, is generally slower for numerical computations compared to compiled languages. NumPy enhances Python’s capabilities by offloading the computation-heavy tasks to its underlying C implementations, thus improving performance.\n",
        "\n",
        "*  Ease of Numerical Computation: Prior to NumPy, numerical computations in Python were less straightforward and often required manual implementation of algorithms. NumPy abstracts away much of this complexity, providing a set of pre-built, optimized functions that simplify numerical programming.\n",
        "\n",
        "*  Data Handling and Transformation: NumPy’s array operations and methods allow for efficient data handling and transformation. This is crucial for preprocessing data before performing more complex analyses or modeling tasks.\n",
        "\n",
        "*  Community and Support: Being a widely adopted library, NumPy benefits from a large community of users and contributors. This results in a wealth of resources, documentation, and third-party tools that enhance its functionality and usability."
      ],
      "metadata": {
        "id": "-gIxnnMq9Rkn"
      }
    },
    {
      "cell_type": "markdown",
      "source": [
        "**2. Compare and contrast np.mean() and np.average() functions in NumPy. When would you use one over the other.**\n",
        "\n",
        "Ans: In NumPy, np.mean() and np.average() are two functions used to calculate the average of numerical data, but they have some differences in functionality. Here’s a detailed comparison:\n",
        "\n",
        "# np.mean()\n",
        "*  Purpose: Computes the arithmetic mean of the elements in an array.\n",
        "\n",
        "*  Syntax: numpy.mean(a, axis=None, dtype=None, out=None, keepdims=False)\n",
        "\n",
        "*  a: Array-like input.\n",
        "\n",
        "*  axis: Axis or axes along which the means are computed. By default, it computes the mean of the flattened array.\n",
        "\n",
        "*  dtype: Data type used for the computation. Defaults to the data type of a.\n",
        "\n",
        "*  out: An alternative output array in which to place the result.\n",
        "\n",
        "*  keepdims: Whether to retain the reduced dimensions as single-dimensional or not.\n",
        "\n",
        "*  Default Behavior: Calculates the mean of all elements in the array by default.\n",
        "\n",
        "*  Usage: Use np.mean() when you want a simple arithmetic mean of the array elements without any additional weighting.\n",
        "\n",
        "# np.average()\n",
        "\n",
        "*  Purpose: Computes the weighted average of elements in an array.\n",
        "\n",
        "*  Syntax: numpy.average(a, axis=None, weights=None, returned=False)\n",
        "\n",
        "*  a: Array-like input.\n",
        "\n",
        "*  axis: Axis or axes along which the averages are computed. By default, it computes the average of the flattened array.\n",
        "\n",
        "*  weights: Array of weights associated with the data. If provided, the average is computed as a weighted average.\n",
        "\n",
        "*  returned: If True, it also returns the sum of the weights.\n",
        "\n",
        "*  Default Behavior: Calculates the average of all elements in the array. If weights are provided, it computes the weighted average.\n",
        "\n",
        "*  Usage: Use np.average() when you need to compute a weighted average, where different elements contribute differently to the result based on their weights.\n",
        "\n",
        "#Key Differences Weights:\n",
        "\n",
        "*  np.mean() does not handle weights. It computes a simple arithmetic mean. np.average() can handle weights, allowing for weighted averages. Functionality:\n",
        "\n",
        "*  np.mean() is straightforward and typically faster for computing an unweighted mean. np.average() provides more flexibility with its support for weights and can also return the sum of weights when required. Output:\n",
        "\n",
        "Both functions can work along specified axes and can handle multidimensional arrays. np.average() can return additional information (the sum of weights) when returned=True.\n",
        "\n",
        "# When to Use Each\n",
        "*  Use np.mean() when you want to compute the simple mean of an array and do not need to consider weights\n",
        "\n",
        "import numpy as np data = [1, 2, 3, 4, 5] mean_value = np.mean(data) # Outputs 3.0\n",
        "\n",
        "*  Use np.average() when you need to calculate a weighted average where different elements have different levels of significance\n",
        "\n",
        "import numpy as np data = [1, 2, 3, 4, 5] weights = [0.1, 0.2, 0.3, 0.2, 0.2] weighted_average = np.average(data, weights=weights) # Computes weighted average."
      ],
      "metadata": {
        "id": "7pxjxfi2ED2J"
      }
    },
    {
      "cell_type": "markdown",
      "source": [
        "**3. Describe the methods for reversing a NumPy array along different axes. Provide examples for 1D and 2D arrays.**\n",
        "\n",
        "Ans: Reversing a NumPy array along different axes can be accomplished using various techniques.methods for both 1D and 2D arrays are:\n",
        "\n",
        "*  Reversing a 1D NumPy Array For a 1D array: Using Slicing"
      ],
      "metadata": {
        "id": "oJ0yGnwEE5yn"
      }
    },
    {
      "cell_type": "code",
      "source": [
        "import numpy as np\n",
        "\n",
        "# Create a 1D array\n",
        "arr = np.array([1, 2, 3, 4, 5])\n",
        "\n",
        "# Reverse the array\n",
        "reversed_arr = arr[::-1] #arr[::-1] creates a new array that starts from the end of arr and moves backwards, effectively reversing it.\n",
        "\n",
        "print(\"Original array:\", arr)\n",
        "print(\"Reversed array:\", reversed_arr)"
      ],
      "metadata": {
        "colab": {
          "base_uri": "https://localhost:8080/"
        },
        "id": "gDxrida0XeWE",
        "outputId": "2f08fbde-4341-44fb-b0c9-3e3bb4a4ba3b"
      },
      "execution_count": 1,
      "outputs": [
        {
          "output_type": "stream",
          "name": "stdout",
          "text": [
            "Original array: [1 2 3 4 5]\n",
            "Reversed array: [5 4 3 2 1]\n"
          ]
        }
      ]
    },
    {
      "cell_type": "markdown",
      "source": [
        "* Reversing a 2D NumPy Array For a 2D array, We can reverse the array along specific axes.\n",
        "\n",
        "a)Reversing Along Axis 0 (Rows)\n",
        "\n",
        "b)Reversing Along Axis 1 (Rows)\n",
        "\n",
        "c)Reversing Along Both Axes"
      ],
      "metadata": {
        "id": "7Cyu5QbvXdfU"
      }
    },
    {
      "cell_type": "code",
      "source": [
        "import numpy as np\n",
        "# Create a 2D array\n",
        "arr = np.array([[1, 2, 3],\n",
        "                [4, 5, 6],\n",
        "                [7, 8, 9]])\n",
        "\n",
        "# Reverse the array along axis 0\n",
        "reversed_axis0 = arr[::-1, :] #arr[::-1, :] reverses the rows of the array. The : ensures that all columns\n",
        "                              #are kept in place while only the rows are reversed\n",
        "print(\"Original array:\\n\", arr)\n",
        "print(\"Reversed along axis 0:\\n\", reversed_axis0)"
      ],
      "metadata": {
        "colab": {
          "base_uri": "https://localhost:8080/"
        },
        "id": "ImuA3cdoXjWd",
        "outputId": "63b237b4-8482-4085-d0cc-b147cebf6695"
      },
      "execution_count": 2,
      "outputs": [
        {
          "output_type": "stream",
          "name": "stdout",
          "text": [
            "Original array:\n",
            " [[1 2 3]\n",
            " [4 5 6]\n",
            " [7 8 9]]\n",
            "Reversed along axis 0:\n",
            " [[7 8 9]\n",
            " [4 5 6]\n",
            " [1 2 3]]\n"
          ]
        }
      ]
    },
    {
      "cell_type": "code",
      "source": [
        "# Reverse the array along axis 1\n",
        "reversed_axis1 = arr[:, ::-1]#arr[:, ::-1] reverses the columns of the array. The : ensures that all rows\n",
        "                            #are kept in place while only the columns are reversed.\n",
        "print(\"Original array:\\n\", arr)\n",
        "print(\"Reversed along axis 1:\\n\", reversed_axis1)\n"
      ],
      "metadata": {
        "colab": {
          "base_uri": "https://localhost:8080/"
        },
        "id": "bWoG7-n_XtC5",
        "outputId": "08a7ea05-f09a-49ef-a697-1085d6f02d85"
      },
      "execution_count": 3,
      "outputs": [
        {
          "output_type": "stream",
          "name": "stdout",
          "text": [
            "Original array:\n",
            " [[1 2 3]\n",
            " [4 5 6]\n",
            " [7 8 9]]\n",
            "Reversed along axis 1:\n",
            " [[3 2 1]\n",
            " [6 5 4]\n",
            " [9 8 7]]\n"
          ]
        }
      ]
    },
    {
      "cell_type": "code",
      "source": [
        "import numpy as np\n",
        "\n",
        "# Create a 2D array\n",
        "arr = np.array([[1, 2, 3],\n",
        "                [4, 5, 6],\n",
        "                [7, 8, 9]])\n",
        "\n",
        "# Reverse the array along both axes by combining slicing operations\n",
        "reversed_both_axes = arr[::-1, ::-1] # arr[::-1, ::-1] reverses the rows and columns of the array. This effectively flips\n",
        "                                      #the array both vertically and horizontally.\n",
        "print(\"Original array:\\n\", arr)\n",
        "print(\"Reversed along both axes:\\n\", reversed_both_axes)"
      ],
      "metadata": {
        "colab": {
          "base_uri": "https://localhost:8080/"
        },
        "id": "ci8Y5L9qXzKS",
        "outputId": "9d6e5032-7ce4-4fd7-cb4d-f2099a4c6781"
      },
      "execution_count": 4,
      "outputs": [
        {
          "output_type": "stream",
          "name": "stdout",
          "text": [
            "Original array:\n",
            " [[1 2 3]\n",
            " [4 5 6]\n",
            " [7 8 9]]\n",
            "Reversed along both axes:\n",
            " [[9 8 7]\n",
            " [6 5 4]\n",
            " [3 2 1]]\n"
          ]
        }
      ]
    },
    {
      "cell_type": "markdown",
      "source": [
        "**4.How can you determine the data type of elements in a NumPy array? Discuss the importance of data types in memory management and performance.**\n",
        "\n",
        "Ans: Determining the data type of elements in a NumPy array is a fundamental aspect of working with NumPy. The data type of the elements in an array affects how data is stored in memory and how operations on the array are performed. Here’s how we can determine the data type and why it matters for memory management and performance.\n",
        "\n",
        "Determining the Data Type To determine the data type of the elements in a NumPy array, you can use the dtype attribute of the array. Here’s an example:"
      ],
      "metadata": {
        "id": "fDAo3fA9YWeT"
      }
    },
    {
      "cell_type": "code",
      "source": [
        "import numpy as np\n",
        "\n",
        "# Create a NumPy array\n",
        "arr = np.array([1, 2, 3, 4, 5])\n",
        "\n",
        "# Determine the data type of the elements\n",
        "data_type = arr.dtype\n",
        "print(\"Data type of array elements:\", data_type)"
      ],
      "metadata": {
        "colab": {
          "base_uri": "https://localhost:8080/"
        },
        "id": "r8mxnWEfYktU",
        "outputId": "538cc6cb-50cc-4239-936d-0daf864b3607"
      },
      "execution_count": 5,
      "outputs": [
        {
          "output_type": "stream",
          "name": "stdout",
          "text": [
            "Data type of array elements: int64\n"
          ]
        }
      ]
    },
    {
      "cell_type": "markdown",
      "source": [
        "Data Types in NumPy NumPy supports a wide variety of data types including:\n",
        "\n",
        "* Integers:\n",
        "\n",
        "1). int8, int16, int32, int64, etc.\n",
        "\n",
        "2). Unsigned Integers: uint8, uint16, uint32, uint64, etc.\n",
        "\n",
        "3). Floating-Point Numbers: float16, float32, float64, etc.\n",
        "\n",
        "4). Complex Numbers: complex64, complex128, etc.\n",
        "\n",
        "5). Others: bool, str, object, etc.\n",
        "\n",
        "* Importance of Data Types in Memory Management and Performance:\n",
        "\n",
        "memory Usage: Different data types require different amounts of memory. For example, int8 takes 1 byte, int32 takes 4 bytes, and int64 takes 8 bytes. Choosing a smaller data type can significantly reduce memory usage, which is crucial when working with large datasets. Floating-point numbers like float32 use less memory than float64. If high precision is not required, using float32 instead of float64 can save memory.\n",
        "\n",
        "* Performance:\n",
        "\n",
        "Computational Speed: Operations on smaller data types are generally faster due to reduced computational load. For example, operations on int32 arrays are often faster than on int64 arrays because they involve less data to process.\n",
        "\n",
        "Vectorization: NumPy operations are typically vectorized, meaning they operate on entire arrays at once. Using the appropriate data type ensures that these operations are efficient and leverage NumPy’s optimized routines.\n",
        "\n",
        "* Compatibility and Precision:\n",
        "\n",
        "Precision Requirements: Choosing the right data type ensures that calculations maintain the necessary precision. For example, using float16 might introduce rounding errors due to its limited precision, which may be unacceptable in certain calculations.\n",
        "\n",
        "Compatibility: Some NumPy functions and operations expect specific data types. Using the wrong data type might result in errors or unintended behavior.\n",
        "\n",
        "* Data Type Conversion: Sometimes you may need to convert the data type of an array for specific operations or to optimize memory usage. You can do this using the astype method:"
      ],
      "metadata": {
        "id": "lWv8yu8TYq-8"
      }
    },
    {
      "cell_type": "code",
      "source": [
        "arr_float = arr.astype(np.float32)  # Convert array to float32"
      ],
      "metadata": {
        "id": "NjPz_iclYuqA"
      },
      "execution_count": 6,
      "outputs": []
    },
    {
      "cell_type": "code",
      "source": [
        "#Example on memory usage\n",
        "import numpy as np\n",
        "import sys\n",
        "\n",
        "arr_int32 = np.array([1, 2, 3, 4, 5], dtype=np.int32)\n",
        "arr_int64 = np.array([1, 2, 3, 4, 5], dtype=np.int64)\n",
        "\n",
        "print(\"Size of int32 array:\", arr_int32.nbytes, \"bytes\")\n",
        "print(\"Size of int64 array:\", arr_int64.nbytes, \"bytes\")"
      ],
      "metadata": {
        "colab": {
          "base_uri": "https://localhost:8080/"
        },
        "id": "iRY232GIYx7o",
        "outputId": "c3c8270f-8ebe-425e-cd34-b1013747ff02"
      },
      "execution_count": 7,
      "outputs": [
        {
          "output_type": "stream",
          "name": "stdout",
          "text": [
            "Size of int32 array: 20 bytes\n",
            "Size of int64 array: 40 bytes\n"
          ]
        }
      ]
    },
    {
      "cell_type": "code",
      "source": [
        "#Example on performance\n",
        "import numpy as np\n",
        "import time\n",
        "\n",
        "# Define large arrays\n",
        "arr_float32 = np.random.rand(1000000).astype(np.float32)\n",
        "arr_float64 = np.random.rand(1000000).astype(np.float64)\n",
        "\n",
        "# Time operations\n",
        "start_time = time.time()\n",
        "np.mean(arr_float32)\n",
        "print(\"Time with float32:\", time.time() - start_time)\n",
        "\n",
        "start_time = time.time()\n",
        "np.mean(arr_float64)\n",
        "print(\"Time with float64:\", time.time() - start_time)"
      ],
      "metadata": {
        "colab": {
          "base_uri": "https://localhost:8080/"
        },
        "id": "mnzMeXSbY0lg",
        "outputId": "9e2f0d74-f26f-42d6-902a-0c56a5fbd33b"
      },
      "execution_count": 8,
      "outputs": [
        {
          "output_type": "stream",
          "name": "stdout",
          "text": [
            "Time with float32: 0.0008816719055175781\n",
            "Time with float64: 0.001726388931274414\n"
          ]
        }
      ]
    },
    {
      "cell_type": "markdown",
      "source": [
        "**5. Define ndarrays in NumPy and explain their key features. How do they differ from standard Python lists.**\n",
        "\n",
        "Ans: In NumPy, ndarray (short for \"n-dimensional array\") is the core data structure for handling numerical data. It is a powerful and flexible container for large datasets, providing numerous advantages over standard Python lists. Here’s a detailed overview of ndarray, its key features, and how it differs from Python lists.\n",
        "\n",
        "An ndarray is a multidimensional, homogeneous array object that holds elements of the same data type. It provides efficient storage and manipulation of numerical data in a variety of dimensions (1D, 2D, 3D, and beyond).\n",
        "\n",
        "* Key Features of ndarray\n",
        "\n",
        "Homogeneous Data Types: All elements in an ndarray have the same data type, which ensures consistency and allows for efficient computations. You can specify the data type using the dtype attribute, e.g., np.int32, np.float64.\n",
        "\n",
        "Multidimensional Arrays: ndarray can be one-dimensional (1D), two-dimensional (2D), or n-dimensional (nD). This flexibility allows for handling complex datasets like matrices, tensors, and more. The shape of an ndarray is described by a tuple of integers, representing the size along each dimension, e.g., (3, 4) for a 2D array with 3 rows and 4 columns.\n",
        "\n",
        "Efficient Storage and Computation: ndarray uses contiguous memory blocks, which allows for efficient storage and computation. This layout optimizes performance for mathematical operations and slicing. Operations on ndarray are often vectorized, meaning they are applied to entire arrays at once, avoiding the need for explicit loops.\n",
        "\n",
        "Element-wise Operations: NumPy supports element-wise operations, which means operations are applied independently to each element of the array. For example, adding two arrays performs element-wise addition.\n",
        "\n",
        "Broadcasting: Broadcasting is a mechanism that allows NumPy to perform operations on arrays of different shapes. It automatically expands the smaller array to match the shape of the larger array for element-wise operations.\n",
        "\n",
        "Slicing and Indexing: ndarray supports advanced slicing and indexing, including boolean indexing, integer indexing, and slicing with multiple dimensions. This provides powerful ways to access and modify parts of the array.\n",
        "\n",
        "Mathematical Functions: NumPy provides a wide range of mathematical functions that can operate on entire arrays or on individual elements, including functions for linear algebra, statistics, and more.\n",
        "\n",
        "Memory Layout: Arrays can have different memory layouts, such as row-major (C-style) or column-major (Fortran-style), which can affect performance in some cases.\n",
        "\n",
        "* Differences Between ndarray and Standard Python Lists\n",
        "\n",
        "Data Type Homogeneity:\n",
        "\n",
        "ndarray: All elements must be of the same data type. Python Lists: Can contain elements of different data types. Performance:\n",
        "\n",
        "ndarray: Provides efficient storage and computation due to its fixed-size data type and contiguous memory layout. Python Lists: Are less efficient for numerical operations, as they are dynamically typed and involve overhead for storing object references. Multidimensionality:\n",
        "\n",
        "ndarray: Supports multidimensional arrays (2D, 3D, etc.) with operations across dimensions. Python Lists: Are inherently 1D. Multi-dimensional data structures require nested lists, which are less efficient and harder to manage. Element-wise Operations:\n",
        "\n",
        "ndarray: Supports element-wise operations and vectorized computations. Python Lists: Do not natively support element-wise operations. You need to use explicit loops or list comprehensions. Broadcasting:\n",
        "\n",
        "ndarray: Supports broadcasting for operations between arrays of different shapes. Python Lists: Do not support broadcasting. Operations require arrays or matrices of compatible shapes. Slicing and Indexing:\n",
        "\n",
        "ndarray: Offers advanced slicing and indexing options, including multi-dimensional slicing. Python Lists: Provide basic slicing and indexing, but are limited to one dimension."
      ],
      "metadata": {
        "id": "Xc2B6XHrbQF8"
      }
    },
    {
      "cell_type": "code",
      "source": [
        "#example on ndarray\n",
        "import numpy as np\n",
        "\n",
        "# Create a 2D NumPy array\n",
        "arr = np.array([[1, 2, 3],\n",
        "                [4, 5, 6],\n",
        "                [7, 8, 9]])\n",
        "\n",
        "# Perform element-wise operation\n",
        "result = arr * 2\n",
        "\n",
        "print(\"Original array:\\n\", arr)\n",
        "print(\"Resulting array:\\n\", result)\n"
      ],
      "metadata": {
        "colab": {
          "base_uri": "https://localhost:8080/"
        },
        "id": "0g1i6Ah5cGaO",
        "outputId": "8bdb4f94-3934-4f3f-d6ce-1230b773a5a5"
      },
      "execution_count": 10,
      "outputs": [
        {
          "output_type": "stream",
          "name": "stdout",
          "text": [
            "Original array:\n",
            " [[1 2 3]\n",
            " [4 5 6]\n",
            " [7 8 9]]\n",
            "Resulting array:\n",
            " [[ 2  4  6]\n",
            " [ 8 10 12]\n",
            " [14 16 18]]\n"
          ]
        }
      ]
    },
    {
      "cell_type": "code",
      "source": [
        "#example on pythonlist\n",
        "# Create a 2D Python list\n",
        "list_2d = [[1, 2, 3],\n",
        "           [4, 5, 6],\n",
        "           [7, 8, 9]]\n",
        "\n",
        "# Attempt element-wise operation\n",
        "result_list = [[element * 2 for element in row] for row in list_2d]\n",
        "\n",
        "print(\"Original list:\\n\", list_2d)\n",
        "print(\"Resulting list:\\n\", result_list)"
      ],
      "metadata": {
        "colab": {
          "base_uri": "https://localhost:8080/"
        },
        "id": "XAh91oZscQ8l",
        "outputId": "d7ec6e6a-de04-4432-d04c-67cecbddba67"
      },
      "execution_count": 11,
      "outputs": [
        {
          "output_type": "stream",
          "name": "stdout",
          "text": [
            "Original list:\n",
            " [[1, 2, 3], [4, 5, 6], [7, 8, 9]]\n",
            "Resulting list:\n",
            " [[2, 4, 6], [8, 10, 12], [14, 16, 18]]\n"
          ]
        }
      ]
    },
    {
      "cell_type": "markdown",
      "source": [
        "**6. Analyze the performance benefits of NumPy arrays over Python lists for large-scale numerical operations.**\n",
        "\n",
        "Ans: When it comes to large-scale numerical operations, NumPy arrays offer significant performance benefits over standard Python lists. These benefits stem from several key aspects of NumPy's design and implementation. Here’s an analysis of the performance advantages:\n",
        "\n",
        "* Efficient Memory Layout Contiguous Memory Allocation: NumPy arrays are stored in contiguous memory blocks. This allows for efficient access patterns and better cache utilization during computation. When elements are stored sequentially, accessing them in a loop or performing operations on them is faster because the CPU can prefetch and cache data effectively. Fixed Data Type: All elements in a NumPy array are of the same data type, which enables optimized memory usage. Python lists, on the other hand, are arrays of pointers to objects, and each element can be of a different type. This adds overhead for storing type information and object references.\n",
        "\n",
        "* Vectorized Operations Element-wise Computation: NumPy performs operations element-wise using highly optimized C and Fortran libraries. This means operations like addition, multiplication, or mathematical functions are applied simultaneously to all elements of the array without the need for explicit Python loops. Reduced Overhead: NumPy’s vectorized operations bypass the overhead of Python’s dynamic type checking and method dispatch. Instead, the operations are executed in compiled code, which is significantly faster.\n",
        "\n",
        "* Broadcasting Efficient Computations with Different Shapes: Broadcasting allows NumPy to perform arithmetic operations on arrays of different shapes by automatically expanding the smaller array to match the shape of the larger one. This avoids the need for manual replication of data and reduces memory usage and computational overhead. Avoiding Loops: With broadcasting, you can avoid writing explicit loops for element-wise operations across different shapes. This reduces the amount of Python code and leverages optimized internal implementations.\n",
        "\n",
        "* Optimized Mathematical Libraries Low-Level Libraries: NumPy relies on highly optimized libraries like BLAS (Basic Linear Algebra Subprograms) and LAPACK (Linear Algebra PACKage) for complex numerical operations such as matrix multiplication and solving linear systems. These libraries are implemented in low-level languages like C and Fortran, providing substantial performance improvements. Parallelization: Some of these libraries can take advantage of multi-core processors, further accelerating computations.\n",
        "\n",
        "* Memory Efficiency Compact Storage: NumPy arrays use a fixed-size data type for all elements, which reduces memory overhead compared to Python lists, where each element is a separate object with its own metadata. Reduction in Memory Fragmentation: Contiguous memory allocation in NumPy arrays reduces memory fragmentation and improves cache locality, which enhances performance for large datasets.\n",
        "\n",
        "* Advanced Indexing and Slicing Efficient Indexing: NumPy provides efficient indexing and slicing operations that are executed at the compiled level. These operations are faster compared to equivalent operations on Python lists, which involve additional Python overhead. Boolean Indexing and Advanced Features: NumPy supports boolean indexing, fancy indexing, and other advanced features that allow for efficient data manipulation and querying.\n",
        "\n",
        "Performance Comparison Example To illustrate the performance benefits, consider the following example where we compare element-wise addition using NumPy arrays and Python lists:"
      ],
      "metadata": {
        "id": "-4zQom8pcVc7"
      }
    },
    {
      "cell_type": "code",
      "source": [
        "#ex NumPy\n",
        "import numpy as np\n",
        "import time\n",
        "\n",
        "# Create large NumPy arrays\n",
        "arr1 = np.random.rand(1000000)\n",
        "arr2 = np.random.rand(1000000)\n",
        "\n",
        "# Measure time for element-wise addition\n",
        "start_time = time.time()\n",
        "result = arr1 + arr2\n",
        "end_time = time.time()\n",
        "\n",
        "print(\"NumPy time:\", end_time - start_time)"
      ],
      "metadata": {
        "colab": {
          "base_uri": "https://localhost:8080/"
        },
        "id": "M2jeMvVgc8Nl",
        "outputId": "3d68c15d-43d7-4193-801a-7530644efc44"
      },
      "execution_count": 12,
      "outputs": [
        {
          "output_type": "stream",
          "name": "stdout",
          "text": [
            "NumPy time: 0.0041773319244384766\n"
          ]
        }
      ]
    },
    {
      "cell_type": "code",
      "source": [
        "#ex Python List\n",
        "import time\n",
        "\n",
        "# Create large Python lists\n",
        "list1 = list(np.random.rand(1000000))\n",
        "list2 = list(np.random.rand(1000000))\n",
        "\n",
        "# Measure time for element-wise addition\n",
        "start_time = time.time()\n",
        "result = [x + y for x, y in zip(list1, list2)]\n",
        "end_time = time.time()\n",
        "\n",
        "print(\"Python list time:\", end_time - start_time)"
      ],
      "metadata": {
        "colab": {
          "base_uri": "https://localhost:8080/"
        },
        "id": "Io2wABhpc-6h",
        "outputId": "7597f3c9-de25-47f1-a338-4724bc549d90"
      },
      "execution_count": 13,
      "outputs": [
        {
          "output_type": "stream",
          "name": "stdout",
          "text": [
            "Python list time: 0.1318979263305664\n"
          ]
        }
      ]
    },
    {
      "cell_type": "markdown",
      "source": [
        "Results and Interpretation NumPy: The operation on NumPy arrays will typically be an order of magnitude faster than the operation on Python lists. This is because the NumPy implementation is optimized and leverages low-level operations that are much faster than Python’s dynamic type handling and list comprehensions. Python Lists: The list comprehension method involves looping through Python objects, which adds significant overhead due to Python’s dynamic type checking and object management."
      ],
      "metadata": {
        "id": "ggoMEVqidDgJ"
      }
    },
    {
      "cell_type": "markdown",
      "source": [
        "**7. Compare vstack() and hstack() functions in NumPy. Provide examples demonstrating their usage and output.**\n",
        "\n",
        "Ans: In NumPy, vstack() and hstack() are functions used to stack arrays along different axes, allowing you to combine arrays either vertically or horizontally. Here’s a detailed comparison of these functions, along with examples demonstrating their usage:\n",
        "\n",
        "* numpy.vstack() Purpose: Stacks arrays vertically (row-wise). It combines arrays by adding rows on top of each other. Axis: The arrays are concatenated along the vertical axis (axis 0).\n",
        "\n",
        "Syntax: numpy.vstack(tup)\n",
        "\n",
        "* tup: A sequence of arrays to be stacked. All arrays must have the same number of columns (i.e., the same number of columns)."
      ],
      "metadata": {
        "id": "urrB629xdafV"
      }
    },
    {
      "cell_type": "code",
      "source": [
        "#ex\n",
        "import numpy as np\n",
        "\n",
        "# Create two 2D arrays\n",
        "arr1 = np.array([[1, 2, 3],\n",
        "                 [4, 5, 6]])\n",
        "\n",
        "arr2 = np.array([[7, 8, 9],\n",
        "                 [10, 11, 12]])\n",
        "\n",
        "# Stack arrays vertically\n",
        "result_vstack = np.vstack((arr1, arr2))\n",
        "\n",
        "print(\"Result of vstack:\")\n",
        "print(result_vstack)"
      ],
      "metadata": {
        "colab": {
          "base_uri": "https://localhost:8080/"
        },
        "id": "t3OnQRhCdr8r",
        "outputId": "29e810b7-5274-4f5b-cff8-54f23860a322"
      },
      "execution_count": 14,
      "outputs": [
        {
          "output_type": "stream",
          "name": "stdout",
          "text": [
            "Result of vstack:\n",
            "[[ 1  2  3]\n",
            " [ 4  5  6]\n",
            " [ 7  8  9]\n",
            " [10 11 12]]\n"
          ]
        }
      ]
    },
    {
      "cell_type": "markdown",
      "source": [
        "* numpy.hstack()\n",
        "\n",
        "Purpose: Stacks arrays horizontally (column-wise). It combines arrays by adding columns side by side.\n",
        "Axis: The arrays are concatenated along the horizontal axis.\n",
        "\n",
        "Syntax:\n",
        "numpy.hstack(tup)\n",
        "\n",
        "tup: A sequence of arrays to be stacked. All arrays must have the same number of rows (i.e., the same number of rows)."
      ],
      "metadata": {
        "id": "qVt6XpoTdwWL"
      }
    },
    {
      "cell_type": "code",
      "source": [
        "#ex\n",
        "import numpy as np\n",
        "\n",
        "# Create two 2D arrays\n",
        "arr1 = np.array([[1, 2, 3],\n",
        "                 [4, 5, 6]])\n",
        "\n",
        "arr2 = np.array([[7, 8],\n",
        "                 [9, 10]])\n",
        "\n",
        "# Stack arrays horizontally\n",
        "result_hstack = np.hstack((arr1, arr2))\n",
        "\n",
        "print(\"Result of hstack:\")\n",
        "print(result_hstack)"
      ],
      "metadata": {
        "colab": {
          "base_uri": "https://localhost:8080/"
        },
        "id": "mFhS3OrAd-bi",
        "outputId": "8269c3c7-5fa0-4d72-bd54-d29a0f6d33c3"
      },
      "execution_count": 15,
      "outputs": [
        {
          "output_type": "stream",
          "name": "stdout",
          "text": [
            "Result of hstack:\n",
            "[[ 1  2  3  7  8]\n",
            " [ 4  5  6  9 10]]\n"
          ]
        }
      ]
    },
    {
      "cell_type": "markdown",
      "source": [
        "**8.Explain the differences between fliplr() and flipud() methods in NumPy, including their effects on various array dimensions.**\n",
        "\n",
        "Ans:In NumPy, the fliplr() and flipud() functions are used to reverse the order of elements in an array along different axes. Here’s a detailed explanation of the differences between these methods and their effects on various array dimensions:\n",
        "\n",
        "* numpy.fliplr() Purpose: Reverses the order of elements in an array along the left-right axis (axis 1). This function is short for \"flip left-right.\" Effect on 2D Arrays: It reverses the elements of each row, effectively flipping the array horizontally. Syntax: numpy.fliplr(m)\n",
        "\n",
        "m: The input array. It must be at least 2-dimensional.\n",
        "\n"
      ],
      "metadata": {
        "id": "uzehV5d4eBCU"
      }
    },
    {
      "cell_type": "code",
      "source": [
        "#ex with 2D array\n",
        "import numpy as np\n",
        "\n",
        "# Create a 2D array\n",
        "arr = np.array([[1, 2, 3],\n",
        "                [4, 5, 6],\n",
        "                [7, 8, 9]])\n",
        "\n",
        "# Flip array left-right\n",
        "flipped_lr = np.fliplr(arr)\n",
        "\n",
        "print(\"Original array:\\n\", arr)\n",
        "print(\"Flipped left-right:\\n\", flipped_lr)"
      ],
      "metadata": {
        "colab": {
          "base_uri": "https://localhost:8080/"
        },
        "id": "Z76RT-VveNUj",
        "outputId": "cb63332b-48f4-48f4-8eae-4b55d4471eb9"
      },
      "execution_count": 18,
      "outputs": [
        {
          "output_type": "stream",
          "name": "stdout",
          "text": [
            "Original array:\n",
            " [[1 2 3]\n",
            " [4 5 6]\n",
            " [7 8 9]]\n",
            "Flipped left-right:\n",
            " [[3 2 1]\n",
            " [6 5 4]\n",
            " [9 8 7]]\n"
          ]
        }
      ]
    },
    {
      "cell_type": "markdown",
      "source": [
        "* numpy.flipud() Purpose: Reverses the order of elements in an array along the up-down axis (axis 0). This function is short for \"flip up-down.\" Effect on 2D Arrays: It reverses the order of rows, effectively flipping the array vertically. Syntax: numpy.flipud(m)\n",
        "\n",
        "m: The input array. It must be at least 2-dimensional."
      ],
      "metadata": {
        "id": "iqXvf0qOeN8d"
      }
    },
    {
      "cell_type": "code",
      "source": [
        "#ex on 2D array\n",
        "import numpy as np\n",
        "\n",
        "# Create a 2D array\n",
        "arr = np.array([[1, 2, 3],\n",
        "                [4, 5, 6],\n",
        "                [7, 8, 9]])\n",
        "\n",
        "# Flip array up-down\n",
        "flipped_ud = np.flipud(arr)\n",
        "\n",
        "print(\"Original array:\\n\", arr)\n",
        "print(\"Flipped up-down:\\n\", flipped_ud)"
      ],
      "metadata": {
        "colab": {
          "base_uri": "https://localhost:8080/"
        },
        "id": "Wqz-LcUueUFD",
        "outputId": "3b4fb0e4-55ec-4b03-d0b2-93f6b0097f30"
      },
      "execution_count": 17,
      "outputs": [
        {
          "output_type": "stream",
          "name": "stdout",
          "text": [
            "Original array:\n",
            " [[1 2 3]\n",
            " [4 5 6]\n",
            " [7 8 9]]\n",
            "Flipped up-down:\n",
            " [[7 8 9]\n",
            " [4 5 6]\n",
            " [1 2 3]]\n"
          ]
        }
      ]
    },
    {
      "cell_type": "markdown",
      "source": [
        "Differences Between fliplr() and flipud() 1)Axis of Operation: fliplr():\n",
        "\n",
        "* Operates along the horizontal axis (axis 1), reversing the order of elements in each row. flipud(): Operates along the vertical axis (axis 0), reversing the order of rows.\n",
        "\n",
        "* Effect on Array Dimensions: a)2D Arrays: fliplr(): Flips the array horizontally. Each row is reversed, but the order of rows remains unchanged. flipud(): Flips the array vertically. The order of rows is reversed, but the contents of each row remain unchanged.\n",
        "\n",
        "* 1D Arrays: Both functions are not directly applicable to 1D arrays. For 1D arrays, you would use np.flip() to reverse the array in either direction.\n",
        "\n",
        "* 3D Arrays and Higher:\n",
        "\n",
        "For multi-dimensional arrays, fliplr() and flipud() can be used if the array is at least 2-dimensional, but their effect will depend on the specific axis.\n",
        "\n",
        "fliplr(): Flips along the second axis (axis 1), affecting each 2D slice in the higher-dimensional array. flipud(): Flips along the first axis (axis 0), affecting each 2D slice in the higher-dimensional array."
      ],
      "metadata": {
        "id": "31pGw0qSeWTS"
      }
    },
    {
      "cell_type": "code",
      "source": [
        "#ex with 3D array\n",
        "import numpy as np\n",
        "\n",
        "# Create a 3D array\n",
        "arr_3d = np.array([[[1, 2, 3],\n",
        "                    [4, 5, 6],\n",
        "                    [7, 8, 9]],\n",
        "\n",
        "                   [[10, 11, 12],\n",
        "                    [13, 14, 15],\n",
        "                    [16, 17, 18]]])\n",
        "\n",
        "# Flip along axis 1 (left-right) for each 2D slice\n",
        "flipped_lr_3d = np.fliplr(arr_3d)\n",
        "\n",
        "# Flip along axis 0 (up-down) for the 3D array\n",
        "flipped_ud_3d = np.flipud(arr_3d)\n",
        "\n",
        "print(\"Original 3D array:\\n\", arr_3d)\n",
        "print(\"Flipped left-right (3D):\\n\", flipped_lr_3d)\n",
        "print(\"Flipped up-down (3D):\\n\", flipped_ud_3d)"
      ],
      "metadata": {
        "colab": {
          "base_uri": "https://localhost:8080/"
        },
        "id": "KoU3HzxTeYiE",
        "outputId": "18a5d007-5841-4654-94a8-db36249a8f86"
      },
      "execution_count": 19,
      "outputs": [
        {
          "output_type": "stream",
          "name": "stdout",
          "text": [
            "Original 3D array:\n",
            " [[[ 1  2  3]\n",
            "  [ 4  5  6]\n",
            "  [ 7  8  9]]\n",
            "\n",
            " [[10 11 12]\n",
            "  [13 14 15]\n",
            "  [16 17 18]]]\n",
            "Flipped left-right (3D):\n",
            " [[[ 7  8  9]\n",
            "  [ 4  5  6]\n",
            "  [ 1  2  3]]\n",
            "\n",
            " [[16 17 18]\n",
            "  [13 14 15]\n",
            "  [10 11 12]]]\n",
            "Flipped up-down (3D):\n",
            " [[[10 11 12]\n",
            "  [13 14 15]\n",
            "  [16 17 18]]\n",
            "\n",
            " [[ 1  2  3]\n",
            "  [ 4  5  6]\n",
            "  [ 7  8  9]]]\n"
          ]
        }
      ]
    },
    {
      "cell_type": "markdown",
      "source": [
        "**9. Discuss the functionality of the array_split() method in NumPy. How does it handle uneven splits.**\n",
        "\n",
        "Ans: The array_split() method in NumPy is a versatile function for splitting an array into multiple sub-arrays. This function is useful for dividing data into chunks for processing or analysis. Here’s a detailed look at its functionality and how it handles uneven splits:\n",
        "\n",
        "a)numpy.array_split() Purpose: To split an array into multiple sub-arrays along a specified axis. Syntax: numpy.array_split(ary, indices_or_sections, axis=0)\n",
        "\n",
        "ary: The input array to be split. indices_or_sections: If an integer is provided, it specifies the number of equal-sized sub-arrays to create. If a sequence of indices is provided, it specifies the points at which to split the array. axis: The axis along which to split the array. The default is 0.\n",
        "\n",
        "Handling Uneven Splits When splitting an array into an unequal number of sub-arrays (i.e., the size of the array is not evenly divisible by the number of sections), array_split() handles this gracefully:\n",
        "\n",
        "1)Integer as indices_or_sections: If the array cannot be evenly divided, array_split() will create sub-arrays of different sizes. The result will be a list of sub-arrays where the first few sub-arrays are larger if there are remainders. For example, if you split an array of size 10 into 3 parts, you will get two sub-arrays of size 4 and one of size 2.\n",
        "\n",
        "2)Sequence of Indices as indices_or_sections: If you specify a sequence of indices, array_split() will split the array at those indices. If the indices do not evenly divide the array, the last sub-array might be smaller or larger, depending on how the indices are specified."
      ],
      "metadata": {
        "id": "V5ePwHJtfNe6"
      }
    },
    {
      "cell_type": "code",
      "source": [
        "#ex1: splitting with an integer\n",
        "import numpy as np\n",
        "\n",
        "# Create an array\n",
        "arr = np.arange(10)  # Array: [0, 1, 2, 3, 4, 5, 6, 7, 8, 9]\n",
        "\n",
        "# Split the array into 3 parts\n",
        "split_arr = np.array_split(arr, 3)\n",
        "\n",
        "print(\"Split array (integer split):\")\n",
        "for sub_array in split_arr:\n",
        "    print(sub_array)"
      ],
      "metadata": {
        "colab": {
          "base_uri": "https://localhost:8080/"
        },
        "id": "LsPZbUitfaT6",
        "outputId": "706d986c-4e3a-4bab-c720-2c941653fc80"
      },
      "execution_count": 21,
      "outputs": [
        {
          "output_type": "stream",
          "name": "stdout",
          "text": [
            "Split array (integer split):\n",
            "[0 1 2 3]\n",
            "[4 5 6]\n",
            "[7 8 9]\n"
          ]
        }
      ]
    },
    {
      "cell_type": "code",
      "source": [
        "#ex2: splitting with sequence of indices\n",
        "import numpy as np\n",
        "\n",
        "# Create an array\n",
        "arr = np.arange(10)  # Array: [0, 1, 2, 3, 4, 5, 6, 7, 8, 9]\n",
        "\n",
        "# Split the array at specific indices\n",
        "split_arr = np.array_split(arr, [3, 7])\n",
        "\n",
        "print(\"Split array (indices split):\")\n",
        "for sub_array in split_arr:\n",
        "    print(sub_array)"
      ],
      "metadata": {
        "colab": {
          "base_uri": "https://localhost:8080/"
        },
        "id": "zVky_SmUfeO9",
        "outputId": "720df515-6c8e-4ea8-817f-f78aabc142df"
      },
      "execution_count": 20,
      "outputs": [
        {
          "output_type": "stream",
          "name": "stdout",
          "text": [
            "Split array (indices split):\n",
            "[0 1 2]\n",
            "[3 4 5 6]\n",
            "[7 8 9]\n"
          ]
        }
      ]
    },
    {
      "cell_type": "markdown",
      "source": [
        "**10. Explain the concepts of vectorization and broadcasting in NumPy. How do they contribute to efficient array\n",
        "operations.**\n",
        "\n",
        "Ans: Vectorization and broadcasting are two key concepts in NumPy that significantly enhance the efficiency and performance of array operations. Here’s an explanation of both concepts and how they contribute to efficient array operations:\n",
        "\n",
        "* Vectorization Vectorization is a technique in NumPy that allows for operations to be performed on entire arrays rather than on individual elements. This is achieved by utilizing NumPy’s underlying C and Fortran libraries, which implement operations in compiled code. As a result, operations are executed much faster than equivalent operations implemented with explicit Python loops.\n",
        "\n",
        "**Key Points**\n",
        "\n",
        "* Element-wise Operations: Vectorization enables element-wise operations on arrays. For instance, adding two arrays together performs addition on each corresponding element simultaneously.\n",
        "\n",
        "* Avoiding Python Loops: By avoiding explicit Python loops, vectorization reduces the overhead associated with Python’s dynamic typing and interpreter. Instead, operations are handled by optimized, low-level implementations.\n",
        "\n",
        "* Improved Performance: Vectorized operations are typically several orders of magnitude faster than their Python loop counterparts due to the optimized implementation in compiled code.\n",
        "\n",
        "\n"
      ],
      "metadata": {
        "id": "6O1mB9fwfiq-"
      }
    },
    {
      "cell_type": "code",
      "source": [
        "#example on vectorisation\n",
        "import numpy as np\n",
        "\n",
        "# Create two large NumPy arrays\n",
        "arr1 = np.random.rand(1000000)\n",
        "arr2 = np.random.rand(1000000)\n",
        "\n",
        "# Vectorized addition\n",
        "result = arr1 + arr2"
      ],
      "metadata": {
        "id": "wNJAi70Xfvb6"
      },
      "execution_count": 24,
      "outputs": []
    },
    {
      "cell_type": "markdown",
      "source": [
        "In this example, arr1 + arr2 is computed in a vectorized manner, where each element of arr1 is added to the corresponding element of arr2 without explicit looping.\n",
        "\n",
        "* Broadcasting Broadcasting is a mechanism that allows NumPy to perform operations on arrays of different shapes in a way that makes sense, without needing to manually align the shapes of the arrays. It automatically expands the smaller array to match the shape of the larger array, making it possible to perform element-wise operations even when the arrays have different dimensions.\n",
        "\n",
        "Key Points\n",
        "\n",
        "Rules for Broadcasting: Broadcasting follows specific rules to determine if two arrays can be broadcast together:\n",
        "\n",
        "* If the arrays have different numbers of dimensions, the shape of the smaller array is padded with ones on the left.\n",
        "* Two dimensions are compatible when: They are equal, or One of them is 1 If these conditions are not met, broadcasting fails.\n",
        "\n",
        "Automatic Expansion: Broadcasting automatically expands the dimensions of the smaller array to match the dimensions of the larger array. This avoids the need to manually replicate data and reduces memory usage.\n",
        "\n",
        "Efficient Computation: By using broadcasting, NumPy can avoid creating large intermediate arrays, which helps save memory and computational resources."
      ],
      "metadata": {
        "id": "XYHnlAp8fwuc"
      }
    },
    {
      "cell_type": "code",
      "source": [
        "#Example of Broadcasting\n",
        "import numpy as np\n",
        "\n",
        "# Create a 2D array and a 1D array\n",
        "arr2d = np.array([[1, 2, 3],\n",
        "                  [4, 5, 6]])\n",
        "\n",
        "arr1d = np.array([10, 20, 30])\n",
        "\n",
        "# Broadcasting: add 1D array to each row of the 2D array\n",
        "result = arr2d + arr1d\n",
        "\n",
        "print(\"Original 2D array:\\n\", arr2d)\n",
        "print(\"1D array:\\n\", arr1d)\n",
        "print(\"Result after broadcasting:\\n\", result)"
      ],
      "metadata": {
        "colab": {
          "base_uri": "https://localhost:8080/"
        },
        "id": "83aTySdGf1lx",
        "outputId": "38a39f32-0da7-4226-e7fe-6270657368d9"
      },
      "execution_count": 25,
      "outputs": [
        {
          "output_type": "stream",
          "name": "stdout",
          "text": [
            "Original 2D array:\n",
            " [[1 2 3]\n",
            " [4 5 6]]\n",
            "1D array:\n",
            " [10 20 30]\n",
            "Result after broadcasting:\n",
            " [[11 22 33]\n",
            " [14 25 36]]\n"
          ]
        }
      ]
    },
    {
      "cell_type": "markdown",
      "source": [
        "In this example, the 1D array arr1d is broadcasted to match the shape of the 2D array arr2d, and the addition is performed element-wise.\n",
        "\n",
        "Contribution to Efficient Array Operations\n",
        "\n",
        "* Speed and Performance:\n",
        "\n",
        "Vectorization: By executing operations in compiled code rather than Python loops, vectorization significantly speeds up computations. This is especially important for large-scale data processing tasks.\n",
        "\n",
        "Broadcasting: Broadcasting allows for efficient operations on arrays of different shapes without requiring explicit data replication. This reduces both memory usage and computational overhead.\n",
        "\n",
        "* Code Simplicity:\n",
        "\n",
        "Vectorization: Simplifies code by eliminating the need for manual loops and conditionals, leading to more concise and readable code.\n",
        "\n",
        "Broadcasting: Simplifies the handling of operations involving arrays of different shapes, avoiding the need for complex manipulation or alignment of array dimensions.\n",
        "\n",
        "* Memory Efficiency:\n",
        "\n",
        "Vectorization: Uses memory more efficiently by performing operations in a vectorized manner rather than creating large intermediate arrays.\n",
        "\n",
        "Broadcasting: Avoids creating multiple copies of arrays by automatically aligning shapes, leading to more memory-efficient computations."
      ],
      "metadata": {
        "id": "2plK387Df3wn"
      }
    },
    {
      "cell_type": "markdown",
      "source": [
        "## Name: Shivanshu Singh Parihar\n",
        "# Batch : September 2024\n",
        "# Assignment Date: 25 Oct 2024\n",
        "# Assignment : Numpy Practical\n",
        "## Practical Questions:\n",
        "\n",
        "###                                 Assignment -5\n"
      ],
      "metadata": {
        "id": "9bB0ikePhJzO"
      }
    },
    {
      "cell_type": "markdown",
      "source": [
        "**1. Create a 3x3 NumPy array with random integers between 1 and 100. Then, interchange its rows and columns.**\n",
        "\n",
        "Ans:"
      ],
      "metadata": {
        "id": "Bze0Q97ShiZs"
      }
    },
    {
      "cell_type": "code",
      "source": [
        "import numpy as np\n",
        "\n",
        "# Step 1: Create a 3x3 NumPy array with random integers between 1 and 100\n",
        "array = np.random.randint(1, 101, size=(3, 3))\n",
        "\n",
        "print(\"Original array:\")\n",
        "print(array)\n",
        "\n",
        "# Step 2: Interchange rows and columns (transpose the array)\n",
        "transposed_array = array.T\n",
        "\n",
        "print(\"\\nTransposed array:\")\n",
        "print(transposed_array)"
      ],
      "metadata": {
        "colab": {
          "base_uri": "https://localhost:8080/"
        },
        "id": "TLnuL9G7hoeU",
        "outputId": "5e716b97-6136-40db-88df-8af545d399ce"
      },
      "execution_count": 35,
      "outputs": [
        {
          "output_type": "stream",
          "name": "stdout",
          "text": [
            "Original array:\n",
            "[[12  3 52]\n",
            " [81 33 55]\n",
            " [ 1 39 20]]\n",
            "\n",
            "Transposed array:\n",
            "[[12 81  1]\n",
            " [ 3 33 39]\n",
            " [52 55 20]]\n"
          ]
        }
      ]
    },
    {
      "cell_type": "markdown",
      "source": [
        "**2. Generate a 1D NumPy array with 10 elements. Reshape it into a 2x5 array, then into a 5x2 array.**\n",
        "\n",
        "Ans:"
      ],
      "metadata": {
        "id": "o0m6OP9phq3E"
      }
    },
    {
      "cell_type": "code",
      "source": [
        "import numpy as np\n",
        "\n",
        "# Step 1: Generate a 1D NumPy array with 10 elements\n",
        "array_1d = np.arange(10)  # You can also use np.random.randint if you prefer random values\n",
        "\n",
        "print(\"Original 1D array:\")\n",
        "print(array_1d)\n",
        "\n",
        "# Step 2: Reshape it into a 2x5 array\n",
        "array_2x5 = array_1d.reshape(2, 5)\n",
        "\n",
        "print(\"\\nReshaped into 2x5 array:\")\n",
        "print(array_2x5)\n",
        "\n",
        "# Step 3: Reshape it into a 5x2 array\n",
        "array_5x2 = array_1d.reshape(5, 2)\n",
        "\n",
        "print(\"\\nReshaped into 5x2 array:\")\n",
        "print(array_5x2)"
      ],
      "metadata": {
        "colab": {
          "base_uri": "https://localhost:8080/"
        },
        "id": "Ka58UxFFhyPg",
        "outputId": "0320723c-3110-47b2-fe9b-864771c83c55"
      },
      "execution_count": 34,
      "outputs": [
        {
          "output_type": "stream",
          "name": "stdout",
          "text": [
            "Original 1D array:\n",
            "[0 1 2 3 4 5 6 7 8 9]\n",
            "\n",
            "Reshaped into 2x5 array:\n",
            "[[0 1 2 3 4]\n",
            " [5 6 7 8 9]]\n",
            "\n",
            "Reshaped into 5x2 array:\n",
            "[[0 1]\n",
            " [2 3]\n",
            " [4 5]\n",
            " [6 7]\n",
            " [8 9]]\n"
          ]
        }
      ]
    },
    {
      "cell_type": "markdown",
      "source": [
        "**3. Create a 4x4 NumPy array with random float values. Add a border of zeros around it, resulting in a 6x6 array.**\n",
        "\n",
        "Ans:"
      ],
      "metadata": {
        "id": "X5L4ROkuhzwS"
      }
    },
    {
      "cell_type": "code",
      "source": [
        "import numpy as np\n",
        "\n",
        "# Step 1: Create a 4x4 NumPy array with random float values\n",
        "array_4x4 = np.random.rand(4, 4)\n",
        "\n",
        "print(\"Original 4x4 array with random float values:\")\n",
        "print(array_4x4)\n",
        "\n",
        "# Step 2: Add a border of zeros around it to get a 6x6 array\n",
        "# `pad_width` specifies the number of rows/columns of padding to add on each side\n",
        "array_6x6 = np.pad(array_4x4, pad_width=1, mode='constant', constant_values=0)\n",
        "\n",
        "print(\"\\n6x6 array with a border of zeros:\")\n",
        "print(array_6x6)"
      ],
      "metadata": {
        "colab": {
          "base_uri": "https://localhost:8080/"
        },
        "id": "NWSnsQFgh6Tn",
        "outputId": "4e5abef6-2ef0-437c-ec5f-fc46530a540f"
      },
      "execution_count": 33,
      "outputs": [
        {
          "output_type": "stream",
          "name": "stdout",
          "text": [
            "Original 4x4 array with random float values:\n",
            "[[0.01998767 0.44171092 0.97958673 0.35944446]\n",
            " [0.48089353 0.68866118 0.88047589 0.91823547]\n",
            " [0.21682214 0.56518887 0.86510256 0.50896896]\n",
            " [0.91672295 0.92115761 0.08311249 0.27771856]]\n",
            "\n",
            "6x6 array with a border of zeros:\n",
            "[[0.         0.         0.         0.         0.         0.        ]\n",
            " [0.         0.01998767 0.44171092 0.97958673 0.35944446 0.        ]\n",
            " [0.         0.48089353 0.68866118 0.88047589 0.91823547 0.        ]\n",
            " [0.         0.21682214 0.56518887 0.86510256 0.50896896 0.        ]\n",
            " [0.         0.91672295 0.92115761 0.08311249 0.27771856 0.        ]\n",
            " [0.         0.         0.         0.         0.         0.        ]]\n"
          ]
        }
      ]
    },
    {
      "cell_type": "markdown",
      "source": [
        "**4. Using NumPy, create an array of integers from 10 to 60 with a step of 5.**\n",
        "\n",
        "Ans:"
      ],
      "metadata": {
        "id": "Z0aRBfYwh7Jf"
      }
    },
    {
      "cell_type": "code",
      "source": [
        "import numpy as np\n",
        "\n",
        "# Create an array of integers from 10 to 60 with a step of 5\n",
        "array = np.arange(10, 65, 5)\n",
        "\n",
        "print(\"Array from 10 to 60 with a step of 5:\")\n",
        "print(array)"
      ],
      "metadata": {
        "colab": {
          "base_uri": "https://localhost:8080/"
        },
        "id": "M3VxdRuGiDq8",
        "outputId": "a3c33ab9-0c96-40a1-f639-a5a6fd76eaf2"
      },
      "execution_count": 32,
      "outputs": [
        {
          "output_type": "stream",
          "name": "stdout",
          "text": [
            "Array from 10 to 60 with a step of 5:\n",
            "[10 15 20 25 30 35 40 45 50 55 60]\n"
          ]
        }
      ]
    },
    {
      "cell_type": "markdown",
      "source": [
        "**5. Create a NumPy array of strings ['python', 'numpy', 'pandas']. Apply different case transformations (uppercase, lowercase, title case, etc.) to each element.**\n",
        "\n",
        "Ans:"
      ],
      "metadata": {
        "id": "ehGrW_GCiFta"
      }
    },
    {
      "cell_type": "code",
      "source": [
        "import numpy as np\n",
        "\n",
        "# Step 1: Create a NumPy array of strings\n",
        "array = np.array(['python', 'numpy', 'pandas'])\n",
        "\n",
        "# Step 2: Apply different case transformations to each element\n",
        "uppercase_array = np.char.upper(array)\n",
        "lowercase_array = np.char.lower(array)\n",
        "titlecase_array = np.char.title(array)\n",
        "capitalize_array = np.char.capitalize(array)\n",
        "\n",
        "# Print the results\n",
        "print(\"Original array:\")\n",
        "print(array)\n",
        "\n",
        "print(\"\\nUppercase transformation:\")\n",
        "print(uppercase_array)\n",
        "\n",
        "print(\"\\nLowercase transformation:\")\n",
        "print(lowercase_array)\n",
        "\n",
        "print(\"\\nTitlecase transformation:\")\n",
        "print(titlecase_array)\n",
        "\n",
        "print(\"\\nCapitalize transformation:\")\n",
        "print(capitalize_array)"
      ],
      "metadata": {
        "colab": {
          "base_uri": "https://localhost:8080/"
        },
        "id": "LeJnmoJFiKzK",
        "outputId": "9bdd7bb5-4827-49fc-8ee2-aeecef47afdf"
      },
      "execution_count": 31,
      "outputs": [
        {
          "output_type": "stream",
          "name": "stdout",
          "text": [
            "Original array:\n",
            "['python' 'numpy' 'pandas']\n",
            "\n",
            "Uppercase transformation:\n",
            "['PYTHON' 'NUMPY' 'PANDAS']\n",
            "\n",
            "Lowercase transformation:\n",
            "['python' 'numpy' 'pandas']\n",
            "\n",
            "Titlecase transformation:\n",
            "['Python' 'Numpy' 'Pandas']\n",
            "\n",
            "Capitalize transformation:\n",
            "['Python' 'Numpy' 'Pandas']\n"
          ]
        }
      ]
    },
    {
      "cell_type": "markdown",
      "source": [
        "**6. Generate a NumPy array of words. Insert a space between each character of every word in the array.**\n",
        "\n",
        "Ans:"
      ],
      "metadata": {
        "id": "YdwuHg4hiXay"
      }
    },
    {
      "cell_type": "code",
      "source": [
        "import numpy as np\n",
        "\n",
        "# Step 1: Create a NumPy array of words\n",
        "words_array = np.array(['python', 'numpy', 'pandas'])\n",
        "\n",
        "# Step 2: Insert a space between each character of every word in the array\n",
        "# Use np.char.join to insert spaces between characters\n",
        "spaced_words_array = np.char.join(' ', words_array)\n",
        "\n",
        "# Print the result\n",
        "print(\"Original array:\")\n",
        "print(words_array)\n",
        "\n",
        "print(\"\\nArray with spaces between each character:\")\n",
        "print(spaced_words_array)"
      ],
      "metadata": {
        "colab": {
          "base_uri": "https://localhost:8080/"
        },
        "id": "aHsf5iPzicXD",
        "outputId": "cd308258-96e2-4361-b83e-a2322220b1be"
      },
      "execution_count": 30,
      "outputs": [
        {
          "output_type": "stream",
          "name": "stdout",
          "text": [
            "Original array:\n",
            "['python' 'numpy' 'pandas']\n",
            "\n",
            "Array with spaces between each character:\n",
            "['p y t h o n' 'n u m p y' 'p a n d a s']\n"
          ]
        }
      ]
    },
    {
      "cell_type": "markdown",
      "source": [
        "**7. Create two 2D NumPy arrays and perform element-wise addition, subtraction, multiplication, and division.**\n",
        "\n",
        "Ans:\n",
        "\n"
      ],
      "metadata": {
        "id": "cvrvlz7Fiegr"
      }
    },
    {
      "cell_type": "code",
      "source": [
        "import numpy as np\n",
        "\n",
        "# Step 1: Create two 2D NumPy arrays\n",
        "array1 = np.array([[1, 2, 3], [4, 5, 6]])\n",
        "array2 = np.array([[7, 8, 9], [10, 11, 12]])\n",
        "\n",
        "# Step 2: Perform element-wise addition\n",
        "addition_result = array1 + array2\n",
        "\n",
        "# Step 3: Perform element-wise subtraction\n",
        "subtraction_result = array1 - array2\n",
        "\n",
        "# Step 4: Perform element-wise multiplication\n",
        "multiplication_result = array1 * array2\n",
        "\n",
        "# Step 5: Perform element-wise division\n",
        "# To avoid division by zero, ensure no zeros in array2\n",
        "division_result = array1 / array2\n",
        "\n",
        "# Print the results\n",
        "print(\"Array 1:\")\n",
        "print(array1)\n",
        "\n",
        "print(\"\\nArray 2:\")\n",
        "print(array2)\n",
        "\n",
        "print(\"\\nElement-wise addition:\")\n",
        "print(addition_result)\n",
        "\n",
        "print(\"\\nElement-wise subtraction:\")\n",
        "print(subtraction_result)\n",
        "\n",
        "print(\"\\nElement-wise multiplication:\")\n",
        "print(multiplication_result)\n",
        "\n",
        "print(\"\\nElement-wise division:\")\n",
        "print(division_result)"
      ],
      "metadata": {
        "colab": {
          "base_uri": "https://localhost:8080/"
        },
        "id": "S-tt5CsPinFJ",
        "outputId": "17ef78ce-3d51-4cab-c108-6f6d0c8675fd"
      },
      "execution_count": 29,
      "outputs": [
        {
          "output_type": "stream",
          "name": "stdout",
          "text": [
            "Array 1:\n",
            "[[1 2 3]\n",
            " [4 5 6]]\n",
            "\n",
            "Array 2:\n",
            "[[ 7  8  9]\n",
            " [10 11 12]]\n",
            "\n",
            "Element-wise addition:\n",
            "[[ 8 10 12]\n",
            " [14 16 18]]\n",
            "\n",
            "Element-wise subtraction:\n",
            "[[-6 -6 -6]\n",
            " [-6 -6 -6]]\n",
            "\n",
            "Element-wise multiplication:\n",
            "[[ 7 16 27]\n",
            " [40 55 72]]\n",
            "\n",
            "Element-wise division:\n",
            "[[0.14285714 0.25       0.33333333]\n",
            " [0.4        0.45454545 0.5       ]]\n"
          ]
        }
      ]
    },
    {
      "cell_type": "markdown",
      "source": [
        "**8. Use NumPy to create a 5x5 identity matrix, then extract its diagonal elements.**\n",
        "\n",
        "Ans:"
      ],
      "metadata": {
        "id": "_hc-jfFminzK"
      }
    },
    {
      "cell_type": "code",
      "source": [
        "import numpy as np\n",
        "\n",
        "# Step 1: Create a 5x5 identity matrix\n",
        "identity_matrix = np.eye(5)\n",
        "\n",
        "print(\"5x5 Identity Matrix:\")\n",
        "print(identity_matrix)\n",
        "\n",
        "# Step 2: Extract the diagonal elements\n",
        "diagonal_elements = np.diag(identity_matrix)\n",
        "\n",
        "print(\"\\nDiagonal elements:\")\n",
        "print(diagonal_elements)"
      ],
      "metadata": {
        "colab": {
          "base_uri": "https://localhost:8080/"
        },
        "id": "6ao114a9itJr",
        "outputId": "dfed18f6-aca6-48d0-94ef-7fec9511e4c0"
      },
      "execution_count": 28,
      "outputs": [
        {
          "output_type": "stream",
          "name": "stdout",
          "text": [
            "5x5 Identity Matrix:\n",
            "[[1. 0. 0. 0. 0.]\n",
            " [0. 1. 0. 0. 0.]\n",
            " [0. 0. 1. 0. 0.]\n",
            " [0. 0. 0. 1. 0.]\n",
            " [0. 0. 0. 0. 1.]]\n",
            "\n",
            "Diagonal elements:\n",
            "[1. 1. 1. 1. 1.]\n"
          ]
        }
      ]
    },
    {
      "cell_type": "markdown",
      "source": [
        "**9. Generate a NumPy array of 100 random integers between 0 and 1000. Find and display all prime numbers in this array.**\n",
        "\n",
        "Ans:"
      ],
      "metadata": {
        "id": "0GtXrBPhit14"
      }
    },
    {
      "cell_type": "code",
      "source": [
        "import numpy as np\n",
        "\n",
        "# Step 1: Generate a NumPy array of 100 random integers between 0 and 1000\n",
        "array = np.random.randint(0, 1001, size=100)\n",
        "\n",
        "# Function to check if a number is prime\n",
        "def is_prime(n):\n",
        "    \"\"\"Return True if n is a prime number, else False.\"\"\"\n",
        "    if n <= 1:\n",
        "        return False\n",
        "    if n <= 3:\n",
        "        return True\n",
        "    if n % 2 == 0 or n % 3 == 0:\n",
        "        return False\n",
        "    i = 5\n",
        "    while i * i <= n:\n",
        "        if n % i == 0 or n % (i + 2) == 0:\n",
        "            return False\n",
        "        i += 6\n",
        "    return True\n",
        "\n",
        "# Step 2: Find all prime numbers in the array\n",
        "primes = np.array([num for num in array if is_prime(num)])\n",
        "\n",
        "# Print the results\n",
        "print(\"Array of random integers:\")\n",
        "print(array)\n",
        "\n",
        "print(\"\\nPrime numbers in the array:\")\n",
        "print(primes)"
      ],
      "metadata": {
        "colab": {
          "base_uri": "https://localhost:8080/"
        },
        "id": "MXBxoyxMi07Y",
        "outputId": "eee7e4c6-dfc2-4c4c-bf22-623a2c21e2c3"
      },
      "execution_count": 27,
      "outputs": [
        {
          "output_type": "stream",
          "name": "stdout",
          "text": [
            "Array of random integers:\n",
            "[ 910  423  288  961  265  697  639  544  543  714  244  151  675  510\n",
            "  459  882  183   28  802  128  128  932   53  901  550  488  756  273\n",
            "  335  388  617   42  442  543  888  257  321  999  937   57  291  870\n",
            "  119  779  430   82   91  896  398  611  565  908  633  938   84  203\n",
            "  324  774  964   47  639  131  972  868  180 1000  846  143  660  227\n",
            "  954  791  719  909  373  853  560  305  581  169  675  448   95  197\n",
            "  606  256  881  690  292  930  816  861  387  610  554  973  368  999\n",
            "  917  201]\n",
            "\n",
            "Prime numbers in the array:\n",
            "[151  53 617 257 937  47 131 227 719 373 853 197 881]\n"
          ]
        }
      ]
    },
    {
      "cell_type": "markdown",
      "source": [
        "**10. Create a NumPy array representing daily temperatures for a month. Calculate and display the weekly averages.**\n",
        "\n",
        "Ans:"
      ],
      "metadata": {
        "id": "simb1Xefi1xC"
      }
    },
    {
      "cell_type": "code",
      "source": [
        "import numpy as np\n",
        "\n",
        "# Step 1: Create a NumPy array representing daily temperatures for a month (30 days)\n",
        "# For simplicity, we'll generate random temperatures between 0 and 35 degrees Celsius\n",
        "np.random.seed(0)  # Seed for reproducibility\n",
        "daily_temperatures = np.random.randint(0, 36, size=30)\n",
        "\n",
        "print(\"Daily temperatures for the month:\")\n",
        "print(daily_temperatures)\n",
        "\n",
        "# Step 2: Reshape the array into a shape of (4, 7) for 4 weeks (assuming 30 days includes 4 full weeks)\n",
        "# and 2 extra days; reshaping to 5x7 for simplicity to include all days\n",
        "weekly_temperatures = daily_temperatures.reshape(3, 10)\n",
        "\n",
        "# Step 3: Calculate weekly averages\n",
        "weekly_averages = np.mean(weekly_temperatures, axis=1)\n",
        "\n",
        "print(\"\\nWeekly averages:\")\n",
        "print(weekly_averages)"
      ],
      "metadata": {
        "colab": {
          "base_uri": "https://localhost:8080/"
        },
        "id": "z_oC3Njdi8w0",
        "outputId": "250633c5-b1a0-4e00-e302-4af87636b90a"
      },
      "execution_count": 26,
      "outputs": [
        {
          "output_type": "stream",
          "name": "stdout",
          "text": [
            "Daily temperatures for the month:\n",
            "[ 0  3  3  9 19 21 23  6 24 24 12  1 23 24 17 25 13  8  9 20 16  5 15  0\n",
            " 18 35 24 29 19 19]\n",
            "\n",
            "Weekly averages:\n",
            "[13.2 15.2 18. ]\n"
          ]
        }
      ]
    }
  ]
}